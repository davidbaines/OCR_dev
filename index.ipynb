{
 "cells": [
  {
   "cell_type": "code",
   "execution_count": null,
   "metadata": {},
   "outputs": [],
   "source": [
    "#hide\n",
    "from ocr.core import *"
   ]
  },
  {
   "cell_type": "markdown",
   "metadata": {},
   "source": [
    "# OCR testing nbdev environment\n",
    "\n",
    "> Third attempt at working with nbdev."
   ]
  },
  {
   "cell_type": "markdown",
   "metadata": {},
   "source": [
    "This code can: (hopefully, when it's done.)\n",
    "    1. Create images from text files. Use various fonts and sizes.\n",
    "    2. Manipulate the images to simulate poor quality scans.\n",
    "    3. Send images to Google, Amazon and Microsoft to OCR.\n",
    "    4. Collect the results from each service.\n",
    "    5. Calculate the error rate for each text and service.\n",
    "    6. Show the differences between each OCR result and the orginal."
   ]
  },
  {
   "cell_type": "markdown",
   "metadata": {},
   "source": [
    "## Install"
   ]
  },
  {
   "cell_type": "markdown",
   "metadata": {},
   "source": [
    "`pip install ocr_dev`"
   ]
  },
  {
   "cell_type": "markdown",
   "metadata": {},
   "source": [
    "## How to use"
   ]
  },
  {
   "cell_type": "markdown",
   "metadata": {},
   "source": [
    "\n",
    "Create text files to use. Save them in a folder. Point the code to that folder. Specify where to save the images and how to make them.\n",
    "Specify adjustments to the images.\n",
    "In order to send the images to any service you'll need an account with that service. The services are: Amazon Web Services Vision. Google Cloud Platform Read. Microsoft Azure OCR. Microsoft has a limited number of languages that it supports and if the text isn't in one of those then it won't return any results.\n",
    "\n",
    "Specify which services to send the images.\n",
    "\n"
   ]
  },
  {
   "cell_type": "code",
   "execution_count": null,
   "metadata": {},
   "outputs": [
    {
     "data": {
      "text/plain": [
       "2"
      ]
     },
     "execution_count": null,
     "metadata": {},
     "output_type": "execute_result"
    }
   ],
   "source": [
    "1+1"
   ]
  },
  {
   "cell_type": "code",
   "execution_count": null,
   "metadata": {},
   "outputs": [],
   "source": []
  }
 ],
 "metadata": {
  "kernelspec": {
   "display_name": "Python 3",
   "language": "python",
   "name": "python3"
  }
 },
 "nbformat": 4,
 "nbformat_minor": 2
}
